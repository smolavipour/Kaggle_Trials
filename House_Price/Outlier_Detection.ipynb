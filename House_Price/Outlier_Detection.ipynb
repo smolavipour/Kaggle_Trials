{
 "cells": [
  {
   "cell_type": "markdown",
   "metadata": {},
   "source": [
    "# Tukey Method (Tukey fences)\n",
    "\n",
    "In this method, want to compute the outliers among a list of values. For this we compute the first and the third quartiles of the data denoted as $Q_1$ and $Q_3$.\n",
    "In addition, we compute $\\Delta=Q_3 - Q_1$ which is the interquartile range.\n",
    "Now a value is said to be outlier, if it is in the range of $$Q_1-1.5 \\Delta<x<Q_3+1.5 \\Delta.$$"
   ]
  },
  {
   "cell_type": "code",
   "execution_count": 8,
   "metadata": {},
   "outputs": [],
   "source": [
    "import numpy as np\n",
    "import pandas as pd\n",
    "import seaborn as sns\n",
    "from collections import Counter"
   ]
  },
  {
   "cell_type": "code",
   "execution_count": 2,
   "metadata": {},
   "outputs": [],
   "source": [
    "def detect_outlier(data, num, features):\n",
    "    \"\"\"\n",
    "    We use Tukey method to detect the outlier. \n",
    "    We count number of outlier feature value for each entry and if the number exceeds the num we account it as\n",
    "    outlier.\n",
    "    \"\"\"\n",
    "    outlier_index=[]\n",
    "    \n",
    "    for col in features:\n",
    "        #Take the first quarter\n",
    "        Q1 = np.percentile(data[col],25)\n",
    "        #Take the third quarter\n",
    "        Q3 = np.percentile(data[col],75)\n",
    "        #Compute Delta\n",
    "        Delta = Q3-Q1\n",
    "        \n",
    "        # Determine a list of indices of outliers for feature col\n",
    "        outlier_col = data[(data[col] < Q1 - 1.5*Delta) | (data[col] > Q3 + 1.5*Delta )].index\n",
    "        outlier_index.extend(outlier_col)\n",
    "        \n",
    "    # select observations containing more than 2 outliers\n",
    "    outlier_index = Counter(outlier_index)        \n",
    "    final_list = list( k for k, v in outlier_index.items() if v > num )\n",
    "    return final_list        "
   ]
  },
  {
   "cell_type": "code",
   "execution_count": 13,
   "metadata": {},
   "outputs": [
    {
     "name": "stdout",
     "output_type": "stream",
     "text": [
      "[440, 888, 1205, 224, 496, 178, 691, 1182, 1298]\n"
     ]
    }
   ],
   "source": [
    "Train_raw = pd.read_csv('Data/train.csv')\n",
    "Test_raw = pd.read_csv('Data/test.csv')\n",
    "outliers = detect_outlier(Train_raw, num=2, features = ['YearBuilt','YearRemodAdd','MasVnrArea','BsmtFinSF2','BsmtUnfSF','TotalBsmtSF','1stFlrSF','2ndFlrSF','LowQualFinSF','GarageArea','MiscVal'])\n",
    "print(outliers)\n",
    "train = Train_raw.drop(outliers, axis = 0).reset_index(drop=True)"
   ]
  }
 ],
 "metadata": {
  "kernelspec": {
   "display_name": "Python 3",
   "language": "python",
   "name": "python3"
  },
  "language_info": {
   "codemirror_mode": {
    "name": "ipython",
    "version": 3
   },
   "file_extension": ".py",
   "mimetype": "text/x-python",
   "name": "python",
   "nbconvert_exporter": "python",
   "pygments_lexer": "ipython3",
   "version": "3.7.4"
  }
 },
 "nbformat": 4,
 "nbformat_minor": 4
}
